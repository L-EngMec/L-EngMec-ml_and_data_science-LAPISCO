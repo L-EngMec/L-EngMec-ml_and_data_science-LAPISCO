{
 "cells": [
  {
   "cell_type": "markdown",
   "metadata": {},
   "source": [
    "# 1\n",
    "Utilize o conjunto de dados [Go To College Dataset](https://www.kaggle.com/datasets/saddamazyazy/go-to-college-dataset) ou um conjunto de dados de **classificação supervisionada** de sua escolha."
   ]
  },
  {
   "cell_type": "markdown",
   "metadata": {},
   "source": [
    "##### Carregando os dados do Go To College Dataset"
   ]
  },
  {
   "cell_type": "code",
   "execution_count": 3,
   "metadata": {},
   "outputs": [
    {
     "data": {
      "text/html": [
       "<div>\n",
       "<style scoped>\n",
       "    .dataframe tbody tr th:only-of-type {\n",
       "        vertical-align: middle;\n",
       "    }\n",
       "\n",
       "    .dataframe tbody tr th {\n",
       "        vertical-align: top;\n",
       "    }\n",
       "\n",
       "    .dataframe thead th {\n",
       "        text-align: right;\n",
       "    }\n",
       "</style>\n",
       "<table border=\"1\" class=\"dataframe\">\n",
       "  <thead>\n",
       "    <tr style=\"text-align: right;\">\n",
       "      <th></th>\n",
       "      <th>type_school</th>\n",
       "      <th>school_accreditation</th>\n",
       "      <th>gender</th>\n",
       "      <th>interest</th>\n",
       "      <th>residence</th>\n",
       "      <th>parent_age</th>\n",
       "      <th>parent_salary</th>\n",
       "      <th>house_area</th>\n",
       "      <th>average_grades</th>\n",
       "      <th>parent_was_in_college</th>\n",
       "      <th>will_go_to_college</th>\n",
       "    </tr>\n",
       "  </thead>\n",
       "  <tbody>\n",
       "    <tr>\n",
       "      <th>0</th>\n",
       "      <td>Academic</td>\n",
       "      <td>A</td>\n",
       "      <td>Male</td>\n",
       "      <td>Less Interested</td>\n",
       "      <td>Urban</td>\n",
       "      <td>56</td>\n",
       "      <td>6950000</td>\n",
       "      <td>83.0</td>\n",
       "      <td>84.09</td>\n",
       "      <td>False</td>\n",
       "      <td>True</td>\n",
       "    </tr>\n",
       "    <tr>\n",
       "      <th>1</th>\n",
       "      <td>Academic</td>\n",
       "      <td>A</td>\n",
       "      <td>Male</td>\n",
       "      <td>Less Interested</td>\n",
       "      <td>Urban</td>\n",
       "      <td>57</td>\n",
       "      <td>4410000</td>\n",
       "      <td>76.8</td>\n",
       "      <td>86.91</td>\n",
       "      <td>False</td>\n",
       "      <td>True</td>\n",
       "    </tr>\n",
       "    <tr>\n",
       "      <th>2</th>\n",
       "      <td>Academic</td>\n",
       "      <td>B</td>\n",
       "      <td>Female</td>\n",
       "      <td>Very Interested</td>\n",
       "      <td>Urban</td>\n",
       "      <td>50</td>\n",
       "      <td>6500000</td>\n",
       "      <td>80.6</td>\n",
       "      <td>87.43</td>\n",
       "      <td>False</td>\n",
       "      <td>True</td>\n",
       "    </tr>\n",
       "    <tr>\n",
       "      <th>3</th>\n",
       "      <td>Vocational</td>\n",
       "      <td>B</td>\n",
       "      <td>Male</td>\n",
       "      <td>Very Interested</td>\n",
       "      <td>Rural</td>\n",
       "      <td>49</td>\n",
       "      <td>6600000</td>\n",
       "      <td>78.2</td>\n",
       "      <td>82.12</td>\n",
       "      <td>True</td>\n",
       "      <td>True</td>\n",
       "    </tr>\n",
       "    <tr>\n",
       "      <th>4</th>\n",
       "      <td>Academic</td>\n",
       "      <td>A</td>\n",
       "      <td>Female</td>\n",
       "      <td>Very Interested</td>\n",
       "      <td>Urban</td>\n",
       "      <td>57</td>\n",
       "      <td>5250000</td>\n",
       "      <td>75.1</td>\n",
       "      <td>86.79</td>\n",
       "      <td>False</td>\n",
       "      <td>False</td>\n",
       "    </tr>\n",
       "  </tbody>\n",
       "</table>\n",
       "</div>"
      ],
      "text/plain": [
       "  type_school school_accreditation  gender         interest residence  \\\n",
       "0    Academic                    A    Male  Less Interested     Urban   \n",
       "1    Academic                    A    Male  Less Interested     Urban   \n",
       "2    Academic                    B  Female  Very Interested     Urban   \n",
       "3  Vocational                    B    Male  Very Interested     Rural   \n",
       "4    Academic                    A  Female  Very Interested     Urban   \n",
       "\n",
       "   parent_age  parent_salary  house_area  average_grades  \\\n",
       "0          56        6950000        83.0           84.09   \n",
       "1          57        4410000        76.8           86.91   \n",
       "2          50        6500000        80.6           87.43   \n",
       "3          49        6600000        78.2           82.12   \n",
       "4          57        5250000        75.1           86.79   \n",
       "\n",
       "   parent_was_in_college  will_go_to_college  \n",
       "0                  False                True  \n",
       "1                  False                True  \n",
       "2                  False                True  \n",
       "3                   True                True  \n",
       "4                  False               False  "
      ]
     },
     "execution_count": 3,
     "metadata": {},
     "output_type": "execute_result"
    }
   ],
   "source": [
    "import pandas as pd\n",
    "\n",
    "path = r\"C:\\Users\\Levy\\Downloads\\Dados\\data.csv\"\n",
    "dados = pd.read_csv(path)\n",
    "\n",
    "dados.head()"
   ]
  },
  {
   "cell_type": "markdown",
   "metadata": {},
   "source": [
    "# 2\n",
    "Realize a classificação utilizando pelo menos os seguintes métodos:\n",
    "- kNN\n",
    "- Decision Trees\n",
    "- Bayes\n",
    "- MLP (uma camada oculta)\n",
    "- MLP (duas camadas ocultas)\n",
    "- SVM"
   ]
  },
  {
   "cell_type": "markdown",
   "metadata": {},
   "source": [
    "#### kNN"
   ]
  },
  {
   "cell_type": "code",
   "execution_count": 4,
   "metadata": {},
   "outputs": [],
   "source": [
    "# Transformando Colunas Com Dados Duais Em Colunas Com Dados Binários\n",
    "\n",
    "dados = dados.replace({'Academic': 1, 'Vocational': 0})\n",
    "dados = dados.replace({'A': 1, 'B':0})\n",
    "dados = dados.replace({'Male': 1, 'Female':0})\n",
    "dados = dados.replace({'Urban': 1, 'Rural':0})\n",
    "dados = dados.replace({True: 1, False:0})"
   ]
  },
  {
   "cell_type": "code",
   "execution_count": 5,
   "metadata": {},
   "outputs": [
    {
     "data": {
      "text/html": [
       "<div>\n",
       "<style scoped>\n",
       "    .dataframe tbody tr th:only-of-type {\n",
       "        vertical-align: middle;\n",
       "    }\n",
       "\n",
       "    .dataframe tbody tr th {\n",
       "        vertical-align: top;\n",
       "    }\n",
       "\n",
       "    .dataframe thead th {\n",
       "        text-align: right;\n",
       "    }\n",
       "</style>\n",
       "<table border=\"1\" class=\"dataframe\">\n",
       "  <thead>\n",
       "    <tr style=\"text-align: right;\">\n",
       "      <th></th>\n",
       "      <th>type_school</th>\n",
       "      <th>school_accreditation</th>\n",
       "      <th>gender</th>\n",
       "      <th>interest</th>\n",
       "      <th>residence</th>\n",
       "      <th>parent_age</th>\n",
       "      <th>parent_salary</th>\n",
       "      <th>house_area</th>\n",
       "      <th>average_grades</th>\n",
       "      <th>parent_was_in_college</th>\n",
       "      <th>will_go_to_college</th>\n",
       "    </tr>\n",
       "  </thead>\n",
       "  <tbody>\n",
       "    <tr>\n",
       "      <th>0</th>\n",
       "      <td>1</td>\n",
       "      <td>1</td>\n",
       "      <td>1</td>\n",
       "      <td>1</td>\n",
       "      <td>1</td>\n",
       "      <td>56</td>\n",
       "      <td>6950000</td>\n",
       "      <td>83.0</td>\n",
       "      <td>84.09</td>\n",
       "      <td>0</td>\n",
       "      <td>1</td>\n",
       "    </tr>\n",
       "    <tr>\n",
       "      <th>1</th>\n",
       "      <td>1</td>\n",
       "      <td>1</td>\n",
       "      <td>1</td>\n",
       "      <td>1</td>\n",
       "      <td>1</td>\n",
       "      <td>57</td>\n",
       "      <td>4410000</td>\n",
       "      <td>76.8</td>\n",
       "      <td>86.91</td>\n",
       "      <td>0</td>\n",
       "      <td>1</td>\n",
       "    </tr>\n",
       "    <tr>\n",
       "      <th>2</th>\n",
       "      <td>1</td>\n",
       "      <td>0</td>\n",
       "      <td>0</td>\n",
       "      <td>4</td>\n",
       "      <td>1</td>\n",
       "      <td>50</td>\n",
       "      <td>6500000</td>\n",
       "      <td>80.6</td>\n",
       "      <td>87.43</td>\n",
       "      <td>0</td>\n",
       "      <td>1</td>\n",
       "    </tr>\n",
       "    <tr>\n",
       "      <th>3</th>\n",
       "      <td>0</td>\n",
       "      <td>0</td>\n",
       "      <td>1</td>\n",
       "      <td>4</td>\n",
       "      <td>0</td>\n",
       "      <td>49</td>\n",
       "      <td>6600000</td>\n",
       "      <td>78.2</td>\n",
       "      <td>82.12</td>\n",
       "      <td>1</td>\n",
       "      <td>1</td>\n",
       "    </tr>\n",
       "    <tr>\n",
       "      <th>4</th>\n",
       "      <td>1</td>\n",
       "      <td>1</td>\n",
       "      <td>0</td>\n",
       "      <td>4</td>\n",
       "      <td>1</td>\n",
       "      <td>57</td>\n",
       "      <td>5250000</td>\n",
       "      <td>75.1</td>\n",
       "      <td>86.79</td>\n",
       "      <td>0</td>\n",
       "      <td>0</td>\n",
       "    </tr>\n",
       "  </tbody>\n",
       "</table>\n",
       "</div>"
      ],
      "text/plain": [
       "   type_school  school_accreditation  gender  interest  residence  parent_age  \\\n",
       "0            1                     1       1         1          1          56   \n",
       "1            1                     1       1         1          1          57   \n",
       "2            1                     0       0         4          1          50   \n",
       "3            0                     0       1         4          0          49   \n",
       "4            1                     1       0         4          1          57   \n",
       "\n",
       "   parent_salary  house_area  average_grades  parent_was_in_college  \\\n",
       "0        6950000        83.0           84.09                      0   \n",
       "1        4410000        76.8           86.91                      0   \n",
       "2        6500000        80.6           87.43                      0   \n",
       "3        6600000        78.2           82.12                      1   \n",
       "4        5250000        75.1           86.79                      0   \n",
       "\n",
       "   will_go_to_college  \n",
       "0                   1  \n",
       "1                   1  \n",
       "2                   1  \n",
       "3                   1  \n",
       "4                   0  "
      ]
     },
     "execution_count": 5,
     "metadata": {},
     "output_type": "execute_result"
    }
   ],
   "source": [
    "# Label Encoder\n",
    "\n",
    "from sklearn.preprocessing import LabelEncoder\n",
    "\n",
    "lb = LabelEncoder()\n",
    "lb.fit(dados['interest'])\n",
    "new_col = lb.transform(dados['interest'])\n",
    "dados['interest'] = new_col\n",
    "\n",
    "\n",
    "X_cru = dados.drop(columns='will_go_to_college')\n",
    "y_cru = dados['will_go_to_college']\n",
    "\n",
    "from sklearn.model_selection import train_test_split\n",
    "X_ctrain, X_ctest, y_ctrain, y_ctest = train_test_split(X_cru, y_cru, test_size=0.2, random_state=42)\n",
    "\n",
    "dados.head()\n"
   ]
  },
  {
   "cell_type": "markdown",
   "metadata": {},
   "source": [
    "##### Normalização dos dados"
   ]
  },
  {
   "cell_type": "code",
   "execution_count": 6,
   "metadata": {},
   "outputs": [
    {
     "data": {
      "text/html": [
       "<div>\n",
       "<style scoped>\n",
       "    .dataframe tbody tr th:only-of-type {\n",
       "        vertical-align: middle;\n",
       "    }\n",
       "\n",
       "    .dataframe tbody tr th {\n",
       "        vertical-align: top;\n",
       "    }\n",
       "\n",
       "    .dataframe thead th {\n",
       "        text-align: right;\n",
       "    }\n",
       "</style>\n",
       "<table border=\"1\" class=\"dataframe\">\n",
       "  <thead>\n",
       "    <tr style=\"text-align: right;\">\n",
       "      <th></th>\n",
       "      <th>type_school</th>\n",
       "      <th>school_accreditation</th>\n",
       "      <th>gender</th>\n",
       "      <th>interest</th>\n",
       "      <th>residence</th>\n",
       "      <th>parent_age</th>\n",
       "      <th>parent_salary</th>\n",
       "      <th>house_area</th>\n",
       "      <th>average_grades</th>\n",
       "      <th>parent_was_in_college</th>\n",
       "      <th>will_go_to_college</th>\n",
       "    </tr>\n",
       "  </thead>\n",
       "  <tbody>\n",
       "    <tr>\n",
       "      <th>0</th>\n",
       "      <td>1.0</td>\n",
       "      <td>1.0</td>\n",
       "      <td>1.0</td>\n",
       "      <td>0.25</td>\n",
       "      <td>1.0</td>\n",
       "      <td>0.64</td>\n",
       "      <td>0.661111</td>\n",
       "      <td>0.630</td>\n",
       "      <td>0.395217</td>\n",
       "      <td>0.0</td>\n",
       "      <td>1.0</td>\n",
       "    </tr>\n",
       "    <tr>\n",
       "      <th>1</th>\n",
       "      <td>1.0</td>\n",
       "      <td>1.0</td>\n",
       "      <td>1.0</td>\n",
       "      <td>0.25</td>\n",
       "      <td>1.0</td>\n",
       "      <td>0.68</td>\n",
       "      <td>0.378889</td>\n",
       "      <td>0.568</td>\n",
       "      <td>0.517826</td>\n",
       "      <td>0.0</td>\n",
       "      <td>1.0</td>\n",
       "    </tr>\n",
       "    <tr>\n",
       "      <th>2</th>\n",
       "      <td>1.0</td>\n",
       "      <td>0.0</td>\n",
       "      <td>0.0</td>\n",
       "      <td>1.00</td>\n",
       "      <td>1.0</td>\n",
       "      <td>0.40</td>\n",
       "      <td>0.611111</td>\n",
       "      <td>0.606</td>\n",
       "      <td>0.540435</td>\n",
       "      <td>0.0</td>\n",
       "      <td>1.0</td>\n",
       "    </tr>\n",
       "    <tr>\n",
       "      <th>3</th>\n",
       "      <td>0.0</td>\n",
       "      <td>0.0</td>\n",
       "      <td>1.0</td>\n",
       "      <td>1.00</td>\n",
       "      <td>0.0</td>\n",
       "      <td>0.36</td>\n",
       "      <td>0.622222</td>\n",
       "      <td>0.582</td>\n",
       "      <td>0.309565</td>\n",
       "      <td>1.0</td>\n",
       "      <td>1.0</td>\n",
       "    </tr>\n",
       "    <tr>\n",
       "      <th>4</th>\n",
       "      <td>1.0</td>\n",
       "      <td>1.0</td>\n",
       "      <td>0.0</td>\n",
       "      <td>1.00</td>\n",
       "      <td>1.0</td>\n",
       "      <td>0.68</td>\n",
       "      <td>0.472222</td>\n",
       "      <td>0.551</td>\n",
       "      <td>0.512609</td>\n",
       "      <td>0.0</td>\n",
       "      <td>0.0</td>\n",
       "    </tr>\n",
       "  </tbody>\n",
       "</table>\n",
       "</div>"
      ],
      "text/plain": [
       "   type_school  school_accreditation  gender  interest  residence  parent_age  \\\n",
       "0          1.0                   1.0     1.0      0.25        1.0        0.64   \n",
       "1          1.0                   1.0     1.0      0.25        1.0        0.68   \n",
       "2          1.0                   0.0     0.0      1.00        1.0        0.40   \n",
       "3          0.0                   0.0     1.0      1.00        0.0        0.36   \n",
       "4          1.0                   1.0     0.0      1.00        1.0        0.68   \n",
       "\n",
       "   parent_salary  house_area  average_grades  parent_was_in_college  \\\n",
       "0       0.661111       0.630        0.395217                    0.0   \n",
       "1       0.378889       0.568        0.517826                    0.0   \n",
       "2       0.611111       0.606        0.540435                    0.0   \n",
       "3       0.622222       0.582        0.309565                    1.0   \n",
       "4       0.472222       0.551        0.512609                    0.0   \n",
       "\n",
       "   will_go_to_college  \n",
       "0                 1.0  \n",
       "1                 1.0  \n",
       "2                 1.0  \n",
       "3                 1.0  \n",
       "4                 0.0  "
      ]
     },
     "execution_count": 6,
     "metadata": {},
     "output_type": "execute_result"
    }
   ],
   "source": [
    "from sklearn.preprocessing import MinMaxScaler\n",
    "\n",
    "normalizador = MinMaxScaler()\n",
    "normalizador.fit(dados)\n",
    "\n",
    "dados_normalizados = pd.DataFrame(normalizador.transform(dados), columns = dados.columns)\n",
    "dados_normalizados.head()"
   ]
  },
  {
   "cell_type": "code",
   "execution_count": 7,
   "metadata": {},
   "outputs": [
    {
     "data": {
      "text/html": [
       "<div>\n",
       "<style scoped>\n",
       "    .dataframe tbody tr th:only-of-type {\n",
       "        vertical-align: middle;\n",
       "    }\n",
       "\n",
       "    .dataframe tbody tr th {\n",
       "        vertical-align: top;\n",
       "    }\n",
       "\n",
       "    .dataframe thead th {\n",
       "        text-align: right;\n",
       "    }\n",
       "</style>\n",
       "<table border=\"1\" class=\"dataframe\">\n",
       "  <thead>\n",
       "    <tr style=\"text-align: right;\">\n",
       "      <th></th>\n",
       "      <th>interest</th>\n",
       "      <th>parent_salary</th>\n",
       "      <th>house_area</th>\n",
       "      <th>average_grades</th>\n",
       "    </tr>\n",
       "  </thead>\n",
       "  <tbody>\n",
       "    <tr>\n",
       "      <th>0</th>\n",
       "      <td>0.25</td>\n",
       "      <td>0.661111</td>\n",
       "      <td>0.630</td>\n",
       "      <td>0.395217</td>\n",
       "    </tr>\n",
       "    <tr>\n",
       "      <th>1</th>\n",
       "      <td>0.25</td>\n",
       "      <td>0.378889</td>\n",
       "      <td>0.568</td>\n",
       "      <td>0.517826</td>\n",
       "    </tr>\n",
       "    <tr>\n",
       "      <th>2</th>\n",
       "      <td>1.00</td>\n",
       "      <td>0.611111</td>\n",
       "      <td>0.606</td>\n",
       "      <td>0.540435</td>\n",
       "    </tr>\n",
       "    <tr>\n",
       "      <th>3</th>\n",
       "      <td>1.00</td>\n",
       "      <td>0.622222</td>\n",
       "      <td>0.582</td>\n",
       "      <td>0.309565</td>\n",
       "    </tr>\n",
       "    <tr>\n",
       "      <th>4</th>\n",
       "      <td>1.00</td>\n",
       "      <td>0.472222</td>\n",
       "      <td>0.551</td>\n",
       "      <td>0.512609</td>\n",
       "    </tr>\n",
       "  </tbody>\n",
       "</table>\n",
       "</div>"
      ],
      "text/plain": [
       "   interest  parent_salary  house_area  average_grades\n",
       "0      0.25       0.661111       0.630        0.395217\n",
       "1      0.25       0.378889       0.568        0.517826\n",
       "2      1.00       0.611111       0.606        0.540435\n",
       "3      1.00       0.622222       0.582        0.309565\n",
       "4      1.00       0.472222       0.551        0.512609"
      ]
     },
     "execution_count": 7,
     "metadata": {},
     "output_type": "execute_result"
    }
   ],
   "source": [
    "# Para testar modelos com todas as colunas\n",
    "X = dados_normalizados.drop(columns='will_go_to_college')\n",
    "y = dados['will_go_to_college']\n",
    "\n",
    "# Para testar modelos com apenas as colunas com os maiores indices de co-relação\n",
    "X2 = X[['interest', 'parent_salary', 'house_area', 'average_grades']]\n",
    "X2.head()"
   ]
  },
  {
   "cell_type": "code",
   "execution_count": 8,
   "metadata": {},
   "outputs": [],
   "source": [
    "# Preparando os dados para o treinamento dos modelos KNN\n",
    "\n",
    "from sklearn.model_selection import train_test_split\n",
    "\n",
    "X_train, X_test, y_train, y_test = train_test_split(X, y, test_size=0.2, random_state=42)\n",
    "X_train2, X_test2, y_train2, y_test2 = train_test_split(X2, y, test_size=0.2, random_state=42)"
   ]
  },
  {
   "cell_type": "code",
   "execution_count": 9,
   "metadata": {},
   "outputs": [],
   "source": [
    "# Implementação dos modelos\n",
    "\n",
    "from sklearn.neighbors import KNeighborsClassifier\n",
    "\n",
    "n_vizinhos = 9\n",
    "\n",
    "KNN1 = KNeighborsClassifier(n_neighbors=n_vizinhos)\n",
    "KNN2 = KNeighborsClassifier(n_neighbors=n_vizinhos)"
   ]
  },
  {
   "cell_type": "code",
   "execution_count": 10,
   "metadata": {},
   "outputs": [],
   "source": [
    "# Treinando os modelos e gerando as predições\n",
    "\n",
    "KNN1.fit(X_train, y_train)\n",
    "KNN2.fit(X_train2, y_train2)\n",
    "\n",
    "pred = KNN1.predict(X_test)\n",
    "pred2 = KNN2.predict(X_test2)"
   ]
  },
  {
   "cell_type": "code",
   "execution_count": 11,
   "metadata": {},
   "outputs": [
    {
     "name": "stdout",
     "output_type": "stream",
     "text": [
      "Acurácia do primeiro modelo (kNN 1):  0.83\n",
      "Acurácia do segundo modelo (kNN 2):  0.88\n"
     ]
    }
   ],
   "source": [
    "# Gerando as acurácias\n",
    "\n",
    "from sklearn.metrics import accuracy_score\n",
    "acc = accuracy_score(y_test, pred)\n",
    "acc2 = accuracy_score(y_test2, pred2)\n",
    "\n",
    "print('Acurácia do primeiro modelo (kNN 1): ',acc)\n",
    "print('Acurácia do segundo modelo (kNN 2): ',acc2)"
   ]
  },
  {
   "cell_type": "markdown",
   "metadata": {},
   "source": [
    "#### Decision Trees"
   ]
  },
  {
   "cell_type": "code",
   "execution_count": 12,
   "metadata": {},
   "outputs": [],
   "source": [
    "# Usando os dados já normalizados para a implementação do modelo\n",
    "# Usando também dados somente das colunas com maiores indices de co-relação\n",
    "\n",
    "Xtree = dados_normalizados.drop(columns='will_go_to_college')\n",
    "Ytree = dados_normalizados['will_go_to_college']\n",
    "\n",
    "Xtree2 = X2\n",
    "Ytree2 = y\n",
    "\n",
    "from sklearn.model_selection import train_test_split\n",
    "\n",
    "X_train3, X_test3, y_train3, y_test3 = train_test_split(Xtree, Ytree, test_size=0.2, random_state=42)\n",
    "X_train4, X_test4, y_train4, y_test4 = train_test_split(Xtree2, Ytree2, test_size=0.2, random_state=42)"
   ]
  },
  {
   "cell_type": "code",
   "execution_count": 13,
   "metadata": {},
   "outputs": [],
   "source": [
    "from sklearn.tree import DecisionTreeClassifier\n",
    "\n",
    "dtc = DecisionTreeClassifier()\n",
    "dtc2 = DecisionTreeClassifier()\n",
    "\n",
    "dtc.fit(X_train3, y_train3)\n",
    "dtc2.fit(X_train4, y_train4)\n",
    "\n",
    "pred = dtc.predict(X_test3)\n",
    "pred2 = dtc2.predict(X_test4)"
   ]
  },
  {
   "cell_type": "code",
   "execution_count": 14,
   "metadata": {},
   "outputs": [
    {
     "name": "stdout",
     "output_type": "stream",
     "text": [
      "Acurácia do primeiro modelo (dtc 1):  0.87\n",
      "Acurácia do segundo modelo (dtc 2):  0.83\n"
     ]
    }
   ],
   "source": [
    "from sklearn.metrics import accuracy_score\n",
    "acc = accuracy_score(y_test3, pred)\n",
    "acc2 = accuracy_score(y_test4, pred2)\n",
    "\n",
    "\n",
    "print('Acurácia do primeiro modelo (dtc 1): ',acc)\n",
    "print('Acurácia do segundo modelo (dtc 2): ',acc2)"
   ]
  },
  {
   "cell_type": "markdown",
   "metadata": {},
   "source": [
    "#### Naive Bayes"
   ]
  },
  {
   "cell_type": "code",
   "execution_count": 15,
   "metadata": {},
   "outputs": [],
   "source": [
    "from sklearn.naive_bayes import GaussianNB\n",
    "\n",
    "nb = GaussianNB()\n",
    "nb2 = GaussianNB()\n",
    "\n",
    "X = dados.drop(columns='will_go_to_college')\n",
    "y = dados['will_go_to_college']\n",
    "\n",
    "from sklearn.model_selection import train_test_split\n",
    "X_train, X_test, y_train, y_test = train_test_split(X, y, test_size=0.2, random_state=42)"
   ]
  },
  {
   "cell_type": "code",
   "execution_count": 16,
   "metadata": {},
   "outputs": [],
   "source": [
    "import numpy as np\n",
    "\n",
    "\n",
    "nb.fit(X_train, y_train)\n",
    "nb2.fit(X_train2, y_train2)\n",
    "\n",
    "predi = nb.predict(X_test)\n",
    "predi2 = nb2.predict(X_test2)"
   ]
  },
  {
   "cell_type": "code",
   "execution_count": 17,
   "metadata": {},
   "outputs": [
    {
     "name": "stdout",
     "output_type": "stream",
     "text": [
      "Acurácia do primeiro modelo (nb 1):  0.745\n",
      "Acurácia do segundo modelo (nb 2):  0.835\n"
     ]
    }
   ],
   "source": [
    "from sklearn.metrics import accuracy_score\n",
    "\n",
    "acc = accuracy_score(y_test, predi)\n",
    "acc2 = accuracy_score(y_test2, predi2)\n",
    "\n",
    "print('Acurácia do primeiro modelo (nb 1): ',acc)\n",
    "print('Acurácia do segundo modelo (nb 2): ',acc2)"
   ]
  },
  {
   "cell_type": "markdown",
   "metadata": {},
   "source": [
    "#### MPL (uma camada)"
   ]
  },
  {
   "cell_type": "code",
   "execution_count": 83,
   "metadata": {},
   "outputs": [],
   "source": [
    "from sklearn.neural_network import MLPClassifier\n",
    "\n",
    "X_train2, X_test2, y_train2, y_test2 = train_test_split(X2, y, test_size=0.2, random_state=42)\n",
    "\n",
    "mlp = MLPClassifier(hidden_layer_sizes=(24), max_iter=1500, solver='adam')\n",
    "mlp2 = MLPClassifier(hidden_layer_sizes=(24), max_iter=1500, solver='adam')\n",
    "\n",
    "mlp.fit(X_train3, y_train3)\n",
    "mlp2.fit(X_train2, y_train2)\n",
    "\n",
    "predi = mlp.predict(X_test3)\n",
    "predi2 = mlp2.predict(X_test2)"
   ]
  },
  {
   "cell_type": "code",
   "execution_count": 84,
   "metadata": {},
   "outputs": [
    {
     "name": "stdout",
     "output_type": "stream",
     "text": [
      "Acurácia do primeiro modelo (mlp 1):  0.89\n",
      "Acurácia do primeiro modelo (mlp 2):  0.815\n"
     ]
    }
   ],
   "source": [
    "from sklearn.metrics import accuracy_score\n",
    "acc = accuracy_score(y_test3, predi)\n",
    "acc2 = accuracy_score(y_test, predi2)\n",
    "\n",
    "\n",
    "print('Acurácia do primeiro modelo (mlp 1): ',acc)\n",
    "print('Acurácia do primeiro modelo (mlp 2): ',acc2)"
   ]
  },
  {
   "cell_type": "markdown",
   "metadata": {},
   "source": [
    "#### MLP (duas camadas)"
   ]
  },
  {
   "cell_type": "code",
   "execution_count": 85,
   "metadata": {},
   "outputs": [],
   "source": [
    "from sklearn.neural_network import MLPClassifier\n",
    "mlpD = MLPClassifier(hidden_layer_sizes=(100,100), max_iter=2000, solver='adam')\n",
    "\n",
    "mlpD.fit(X_train2, y_train2)\n",
    "\n",
    "predi = mlpD.predict(X_test2)"
   ]
  },
  {
   "cell_type": "code",
   "execution_count": 86,
   "metadata": {},
   "outputs": [
    {
     "name": "stdout",
     "output_type": "stream",
     "text": [
      "0.85\n"
     ]
    }
   ],
   "source": [
    "from sklearn.metrics import accuracy_score\n",
    "acc = accuracy_score(y_test2, predi)\n",
    "print(acc)"
   ]
  },
  {
   "cell_type": "markdown",
   "metadata": {},
   "source": [
    "# 3\n",
    "Calcule métricas adequadas para o problema e justifique suas escolhas."
   ]
  },
  {
   "cell_type": "code",
   "execution_count": null,
   "metadata": {},
   "outputs": [],
   "source": [
    "# CODE"
   ]
  },
  {
   "cell_type": "markdown",
   "metadata": {},
   "source": [
    "# 4\n",
    "Realize uma otimização dos hiperparâmetros."
   ]
  },
  {
   "cell_type": "code",
   "execution_count": null,
   "metadata": {},
   "outputs": [],
   "source": [
    "# CODE"
   ]
  },
  {
   "cell_type": "markdown",
   "metadata": {},
   "source": [
    "# 5\n",
    "Avalie todos os resultados."
   ]
  }
 ],
 "metadata": {
  "kernelspec": {
   "display_name": "Python 3.11.4 64-bit",
   "language": "python",
   "name": "python3"
  },
  "language_info": {
   "codemirror_mode": {
    "name": "ipython",
    "version": 3
   },
   "file_extension": ".py",
   "mimetype": "text/x-python",
   "name": "python",
   "nbconvert_exporter": "python",
   "pygments_lexer": "ipython3",
   "version": "3.11.4"
  },
  "orig_nbformat": 4,
  "vscode": {
   "interpreter": {
    "hash": "9b87e188e7d8fe9b1aeba516525496c1f27f442f2182aadd3d061b94959c8a2e"
   }
  }
 },
 "nbformat": 4,
 "nbformat_minor": 2
}
