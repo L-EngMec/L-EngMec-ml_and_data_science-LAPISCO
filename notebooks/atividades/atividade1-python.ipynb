{
 "cells": [
  {
   "cell_type": "markdown",
   "metadata": {},
   "source": [
    "# Revisão de Python"
   ]
  },
  {
   "cell_type": "markdown",
   "metadata": {},
   "source": [
    "As soluções devem ser desenvolvidas e demonstradas sua funcionalidade usando um Notebook (.ipynb). As questões que fazem perguntas sobre dados devem ser respondidas algoritimicamente e não por inspeção."
   ]
  },
  {
   "cell_type": "markdown",
   "metadata": {},
   "source": [
    "Dica de revisão de Python: https://nbviewer.org/github/justmarkham/python-reference/blob/master/reference.ipynb"
   ]
  },
  {
   "cell_type": "markdown",
   "metadata": {},
   "source": [
    "## 1\n",
    "Crie uma função que recebe como entrada uma string e retorna essa string com a primeira letra de cada palavra maiúscula. E.g.:\n",
    "\n",
    "**Entrada:** 'Eu gosto de estudar Python'\n",
    "\n",
    "**Saída:** 'Eu Gosto De Estudar Python'"
   ]
  },
  {
   "cell_type": "code",
   "execution_count": 5,
   "metadata": {},
   "outputs": [],
   "source": [
    "def CapsFistLetter( phrase):\n",
    "  words = phrase.split(' ')\n",
    "  listt = []\n",
    "  finalsentence = ''\n",
    "  for word in words:\n",
    "    auxWord = word.upper()\n",
    "    word = auxWord[0] + word[1:]\n",
    "    listt.append(word)\n",
    "\n",
    "  size = len(listt)\n",
    "\n",
    "  for i in range(size):\n",
    "   if listt[i] in finalsentence:\n",
    "    a = 0\n",
    "   else:\n",
    "    finalsentence = finalsentence + ' ' + listt[i]\n",
    "  return finalsentence"
   ]
  },
  {
   "cell_type": "code",
   "execution_count": 6,
   "metadata": {},
   "outputs": [
    {
     "name": "stdout",
     "output_type": "stream",
     "text": [
      " I Like To Study Python\n"
     ]
    }
   ],
   "source": [
    "phrase = \"I like to study Python\"\n",
    "print(CapsFistLetter(phrase))"
   ]
  },
  {
   "cell_type": "markdown",
   "metadata": {},
   "source": [
    "## 2\n",
    "Crie uma função que recebe como entrada uma string e uma lista de palavras e retorna a string filtrando as palavras presentes na lista, desconsiderando se as letras são maiúsculas ou minúsculas. E.g.:\n",
    "\n",
    "**Entrada:** 'Eu gosto de estudar Python', ['python', 'java', 'c++', 'de']\n",
    "\n",
    "**Saída:** 'Eu gosto estudar"
   ]
  },
  {
   "cell_type": "code",
   "execution_count": 7,
   "metadata": {},
   "outputs": [],
   "source": [
    "def censura(frase, lista):\n",
    "  for i in range(len(lista)):\n",
    "    item = str(lista[i]).upper()\n",
    "    posicao = frase.upper().find(item)\n",
    "    if (posicao != -1):\n",
    "        frase = frase[0:posicao] + frase[posicao + len(item):]\n",
    "  return frase"
   ]
  },
  {
   "cell_type": "code",
   "execution_count": 8,
   "metadata": {},
   "outputs": [
    {
     "name": "stdout",
     "output_type": "stream",
     "text": [
      "Eu gosto de estudar \n"
     ]
    }
   ],
   "source": [
    "frase = 'Eu gosto de estudar python'\n",
    "lista = ['python', 'Java', 'C', 'Rust']\n",
    "\n",
    "print(censura(frase, lista))"
   ]
  },
  {
   "cell_type": "markdown",
   "metadata": {},
   "source": [
    "# 3\n",
    "Crie uma função que recebe como entrada uma lista de números e retorna a média aritimética desses números. Faça um tratamento de erro para o caso de um valor da lista não seja um número. E.g.:\n",
    "\n",
    "**Entrada:** [10, 1,'teste', 4]\n",
    "\n",
    "**Saída:** 5"
   ]
  },
  {
   "cell_type": "code",
   "execution_count": 9,
   "metadata": {},
   "outputs": [],
   "source": [
    "def media(lista):\n",
    "  soma = 0\n",
    "  contador =0\n",
    "\n",
    "  for i in range(len(lista)):\n",
    "    if (type(lista[i]) == int or type(lista[i]) == float):\n",
    "      soma += lista[i]\n",
    "      contador += 1\n",
    "\n",
    "  return soma/contador"
   ]
  },
  {
   "cell_type": "code",
   "execution_count": 10,
   "metadata": {},
   "outputs": [
    {
     "name": "stdout",
     "output_type": "stream",
     "text": [
      "A média é 5.0\n"
     ]
    }
   ],
   "source": [
    "lista = ['a', \"b\", 10, 1, 4]\n",
    "\n",
    "print('A média é', media(lista))"
   ]
  },
  {
   "cell_type": "markdown",
   "metadata": {},
   "source": [
    "## 4\n",
    "\n",
    "Crie uma função que recebe como entrada uma lista de números e uma string que indica se será retornado a média ou o somatório desses números. Faça um tratamento de erro para o caso de um valor da lista não seja um número ou a string seja um valor inesperado. E.g.:\n",
    "\n",
    "**Entrada:** [10, 1, 4], 'média'\n",
    "\n",
    "**Saída:** 5\n",
    "\n",
    "ou\n",
    "\n",
    "**Entrada:** [10, 1, 4], 'soma'\n",
    "\n",
    "**Saída:** 15"
   ]
  },
  {
   "cell_type": "code",
   "execution_count": 3,
   "metadata": {},
   "outputs": [],
   "source": [
    "# CODE"
   ]
  },
  {
   "cell_type": "markdown",
   "metadata": {},
   "source": [
    "## 5\n",
    "\n",
    "Crie uma função que recebe como entrada uma lista de valores e uma string que indica se será retornado a quantidade de valores únicos ou os valores únicos em si. Faça tratamento de erro para o caso de uma string inesperada. E.g.:\n",
    "\n",
    "**Entrada:** ['cachorro', 'tamanduá', 'cassaco', 'tamanduá', 'preá', 'cassaco'], 'n_unicos'\n",
    "\n",
    "**Saída:** 4\n",
    "\n",
    "ou\n",
    "\n",
    "**Entrada:** ['cachorro', 'tamanduá', 'cassaco', 'tamanduá', 'preá', 'cassaco'], 'unicos'\n",
    "\n",
    "**Saída:** ['cachorro', 'tamanduá', 'cassaco', 'preá']"
   ]
  },
  {
   "cell_type": "code",
   "execution_count": 4,
   "metadata": {},
   "outputs": [],
   "source": [
    "# CODE"
   ]
  },
  {
   "cell_type": "markdown",
   "metadata": {},
   "source": [
    "## 6\n",
    "\n",
    "Considere o arquivo atividade1.txt. Faça a leitura do conteúdo do arquivo e armazene-o em uma string. Qual a quantidade total de palavras e a quantidade de palavras únicas?\n",
    "\n"
   ]
  },
  {
   "cell_type": "code",
   "execution_count": null,
   "metadata": {},
   "outputs": [],
   "source": [
    "#CODE"
   ]
  }
 ],
 "metadata": {
  "kernelspec": {
   "display_name": "Python 3.11.4 64-bit",
   "language": "python",
   "name": "python3"
  },
  "language_info": {
   "codemirror_mode": {
    "name": "ipython",
    "version": 3
   },
   "file_extension": ".py",
   "mimetype": "text/x-python",
   "name": "python",
   "nbconvert_exporter": "python",
   "pygments_lexer": "ipython3",
   "version": "3.11.4"
  },
  "orig_nbformat": 4,
  "vscode": {
   "interpreter": {
    "hash": "9b87e188e7d8fe9b1aeba516525496c1f27f442f2182aadd3d061b94959c8a2e"
   }
  }
 },
 "nbformat": 4,
 "nbformat_minor": 2
}
